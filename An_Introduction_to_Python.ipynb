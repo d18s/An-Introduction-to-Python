{
 "metadata": {
  "name": "An_Introduction_to_Python"
 }, 
 "nbformat": 2, 
 "worksheets": [
  {
   "cells": [
    {
     "cell_type": "markdown", 
     "source": [
      "#An Introduction to Python", 
      "", 
      "[The Python Interpreter](#The Python Interpreter)", 
      "", 
      "* [Invoking the interpreter](#Invoking the interpreter)", 
      "* [Quitting the interpreter](#Quitting the interpreter)", 
      "* [Making scripts executable](#Making scripts executable)", 
      "* [Passing arguments to scripts](#Passing arguments to scripts)", 
      "* [Reading from standard input](#Reading from standard input)", 
      "* [Script encoding](#Script encoding)", 
      "* [Python as a calculator](#Python as a calculator)", 
      "", 
      "[Datatypes](#Datatypes)", 
      "", 
      "* [Strings](#Strings)", 
      "* [Lists](#Lists)", 
      "", 
      "[Control Flow](#Control Flow)", 
      "", 
      "* [if statements](#if statements)", 
      "", 
      "[Functions](#Functions)", 
      "", 
      "* [Unpacking lists and dictionaries with * and **](#Unpacking lists and dictionaries with * and **)", 
      "* [Default arguments with mutable types](#Default arguments with mutable types)", 
      "", 
      "[Miscellany](#Miscellany)"
     ]
    }, 
    {
     "cell_type": "markdown", 
     "source": [
      "<a id='The Python Interpreter'></a>", 
      "##The Python Interpreter", 
      "<a id='Invoking the interpreter'></a>", 
      "###Invoking the interpreter", 
      "", 
      "To enter a Python interpreter:", 
      "", 
      "\\# python", 
      "", 
      "Run a Python script:", 
      "", 
      "\\# python script.py", 
      "", 
      "Run a Python command:", 
      "", 
      "\\# python -c command", 
      "", 
      "Run a Python module:", 
      "", 
      "\\# python -m module", 
      "", 
      "e.g.,", 
      "", 
      "\\# echo '{\"foo\": \"lorem\", \"bar\": \"ipsum\"}' | python -m json.tool"
     ]
    }, 
    {
     "cell_type": "markdown", 
     "source": [
      "<a id='Quitting the interpreter'></a>", 
      "###Quitting the interpreter", 
      "", 
      "To exit a Python interpreter you can call:", 
      "", 
      "\\>\\>\\> quit()", 
      "", 
      "or", 
      "", 
      "\\>\\>\\> exit()", 
      "", 
      "They are both instances of the same Quitter class, see http://stackoverflow.com/a/19504740/2595080."
     ]
    }, 
    {
     "cell_type": "markdown", 
     "source": [
      "<a id='Making scripts executable'></a>", 
      "###Making scripts executable", 
      "", 
      "Add the following line to the beginning of your script:", 
      "", 
      "    #! /usr/bin/env python", 
      "", 
      "if you want portability, or:", 
      "", 
      "    #! /usr/bin/python", 
      "", 
      "if you want explicitness.", 
      "", 
      "And make sure to flip the executable bit:", 
      "", 
      "\\# chmod +x script.py"
     ]
    }, 
    {
     "cell_type": "markdown", 
     "source": [
      "<a id='Passing arguments to scripts'></a>", 
      "###Passing arguments to scripts", 
      "", 
      "To access command line arguments given when invoking a Python script:", 
      "", 
      "    import sys", 
      "    sys.argv[0]  # name of script", 
      "    sys.argv[1]  # 1st argument", 
      "    sys.argv[2]  # 2nd argument", 
      "", 
      "To do anything other than the most trivial of argument passing you'll want to use the argparse library, see [library documentation](https://docs.python.org/2.7/library/argparse.html) and [howto guide](https://docs.python.org/2.7/howto/argparse.html). Do not use optparse as it is deprecated since version 2.7.", 
      "", 
      "A non-standard library, language agnostic, alternative to argparse is [docopt](http://docopt.org/)."
     ]
    }, 
    {
     "cell_type": "markdown", 
     "source": [
      "<a id='Reading from standard input'></a>", 
      "###Reading from standard input", 
      "", 
      "There are a number of ways to read from standard input:", 
      "", 
      "[fileinput](https://docs.python.org/2/library/fileinput.html):", 
      "", 
      "    import fileinput", 
      "", 
      "    for line in fileinput.input():", 
      "        print line", 
      "", 
      "[sys.stdin](https://docs.python.org/2/library/sys.html#sys.stdin):", 
      "", 
      "    import sys", 
      "    for line in sys.stdin:", 
      "        print line"
     ]
    }, 
    {
     "cell_type": "markdown", 
     "source": [
      "<a id='Script encoding'></a>", 
      "###Script encoding", 
      "", 
      "Declare file encoding just after \\#!, e.g.,", 
      "", 
      "    # -*- coding: latin-1 -*-", 
      "", 
      "You should probably just stick to ASCII though, unless you have a good reason not to."
     ]
    }, 
    {
     "cell_type": "markdown", 
     "source": [
      "<a id='Python as a calculator'></a>", 
      "###Python as a calculator", 
      "", 
      "int / int results in [floor division](https://docs.python.org/2/glossary.html#term-floor-division), whereas division involving a float results in standard division.", 
      "", 
      "To perform floor division with a float use the // operator."
     ]
    }, 
    {
     "cell_type": "code", 
     "collapsed": true, 
     "input": [
      "10 / 3"
     ], 
     "language": "python", 
     "outputs": [], 
     "prompt_number": 61
    }, 
    {
     "cell_type": "code", 
     "collapsed": true, 
     "input": [
      "10 / 3.0"
     ], 
     "language": "python", 
     "outputs": [], 
     "prompt_number": 62
    }, 
    {
     "cell_type": "code", 
     "collapsed": true, 
     "input": [
      "10 // 3.0"
     ], 
     "language": "python", 
     "outputs": [], 
     "prompt_number": 63
    }, 
    {
     "cell_type": "markdown", 
     "source": [
      "Calculate powers with ** operator."
     ]
    }, 
    {
     "cell_type": "code", 
     "collapsed": true, 
     "input": [
      "2 ** 32"
     ], 
     "language": "python", 
     "outputs": [], 
     "prompt_number": 64
    }, 
    {
     "cell_type": "markdown", 
     "source": [
      "In interactive mode the last output is assigned to the variable _"
     ]
    }, 
    {
     "cell_type": "code", 
     "collapsed": true, 
     "input": [
      "1 + 2"
     ], 
     "language": "python", 
     "outputs": [], 
     "prompt_number": 65
    }, 
    {
     "cell_type": "code", 
     "collapsed": true, 
     "input": [
      "_ + 1"
     ], 
     "language": "python", 
     "outputs": [], 
     "prompt_number": 66
    }, 
    {
     "cell_type": "markdown", 
     "source": [
      "<a id='Datatypes'></a>", 
      "##Datatypes", 
      "", 
      "<a id='Strings'></a>", 
      "###Strings", 
      "", 
      "Strings can be enclosed in single ' or double quotes \""
     ]
    }, 
    {
     "cell_type": "code", 
     "collapsed": true, 
     "input": [
      "\"hello, world!\"", 
      "'hello, world!'"
     ], 
     "language": "python", 
     "outputs": [], 
     "prompt_number": 207
    }, 
    {
     "cell_type": "markdown", 
     "source": [
      "To escape quotes in strings use \\\\"
     ]
    }, 
    {
     "cell_type": "code", 
     "collapsed": true, 
     "input": [
      "print \"\\\"hello, world!\\\"\""
     ], 
     "language": "python", 
     "outputs": [], 
     "prompt_number": 208
    }, 
    {
     "cell_type": "markdown", 
     "source": [
      "Prefix the string with r for raw to stop \\ escaping"
     ]
    }, 
    {
     "cell_type": "code", 
     "collapsed": true, 
     "input": [
      "print r'\\\"hello, world!\\\"'"
     ], 
     "language": "python", 
     "outputs": [], 
     "prompt_number": 209
    }, 
    {
     "cell_type": "markdown", 
     "source": [
      "Use triple quotes for strings that span multiple lines"
     ]
    }, 
    {
     "cell_type": "code", 
     "collapsed": true, 
     "input": [
      "print \"\"\"hello, ...", 
      "", 
      "world!\"\"\""
     ], 
     "language": "python", 
     "outputs": [], 
     "prompt_number": 210
    }, 
    {
     "cell_type": "markdown", 
     "source": [
      "You can stop newlines in triple quoted strings with \\"
     ]
    }, 
    {
     "cell_type": "code", 
     "collapsed": true, 
     "input": [
      "print \"\"\"hello, ...\\", 
      "", 
      "world!\"\"\""
     ], 
     "language": "python", 
     "outputs": [], 
     "prompt_number": 211
    }, 
    {
     "cell_type": "markdown", 
     "source": [
      "Explicitly concatenate with + or implicitly by placing strings next to each other and repeat strings with *"
     ]
    }, 
    {
     "cell_type": "code", 
     "collapsed": true, 
     "input": [
      "\"hello, \" * 3 + \"world\" \"!\""
     ], 
     "language": "python", 
     "outputs": [], 
     "prompt_number": 71
    }, 
    {
     "cell_type": "markdown", 
     "source": [
      "Indexing strings"
     ]
    }, 
    {
     "cell_type": "code", 
     "collapsed": true, 
     "input": [
      "alphabet = 'abcdefghijklmnopqrstuvwxyz'", 
      "", 
      "len(alphabet)"
     ], 
     "language": "python", 
     "outputs": [], 
     "prompt_number": 72
    }, 
    {
     "cell_type": "code", 
     "collapsed": true, 
     "input": [
      "alphabet[0]  # first character"
     ], 
     "language": "python", 
     "outputs": [], 
     "prompt_number": 73
    }, 
    {
     "cell_type": "code", 
     "collapsed": true, 
     "input": [
      "alphabet[-1]  # last character"
     ], 
     "language": "python", 
     "outputs": [], 
     "prompt_number": 74
    }, 
    {
     "cell_type": "code", 
     "collapsed": true, 
     "input": [
      "alphabet[4:10]  # 4th - 9th character slice"
     ], 
     "language": "python", 
     "outputs": [], 
     "prompt_number": 75
    }, 
    {
     "cell_type": "code", 
     "collapsed": true, 
     "input": [
      "alphabet[13:] + alphabet[:13]  # omitting start defaults to 0, end defaults to -1"
     ], 
     "language": "python", 
     "outputs": [], 
     "prompt_number": 76
    }, 
    {
     "cell_type": "code", 
     "collapsed": true, 
     "input": [
      "alphabet[-5:]  # last 5 characters"
     ], 
     "language": "python", 
     "outputs": [], 
     "prompt_number": 77
    }, 
    {
     "cell_type": "markdown", 
     "source": [
      "Python strings are immutable, i.e., you can't assign to an index or slice.", 
      "", 
      "Unicode strings are prefixed with a u, unicode characters with \\\\u"
     ]
    }, 
    {
     "cell_type": "code", 
     "collapsed": true, 
     "input": [
      "print 'hello, \\u4e16\\u754c!'", 
      "print u'hello, \\u4e16\\u754c!'"
     ], 
     "language": "python", 
     "outputs": [], 
     "prompt_number": 78
    }, 
    {
     "cell_type": "markdown", 
     "source": [
      "<a id='Lists'></a>", 
      "###Lists", 
      "", 
      "Lists share the same indexing, concatenation, repetition, length operations as strings."
     ]
    }, 
    {
     "cell_type": "code", 
     "collapsed": true, 
     "input": [
      "numbers = [1, 2, 3] * 3 + [4, 5, 6]"
     ], 
     "language": "python", 
     "outputs": [], 
     "prompt_number": 79
    }, 
    {
     "cell_type": "markdown", 
     "source": [
      "An additional operation is taking a shallow copy with [:]"
     ]
    }, 
    {
     "cell_type": "code", 
     "collapsed": true, 
     "input": [
      "squares = [1, 4, 9, 16, 25] + [36, 49, 64, 81, 100]", 
      "squares_copy = squares[:]", 
      "", 
      "id(squares) == id(squares_copy)"
     ], 
     "language": "python", 
     "outputs": [], 
     "prompt_number": 80
    }, 
    {
     "cell_type": "markdown", 
     "source": [
      "Unlike strings, lists are mutable"
     ]
    }, 
    {
     "cell_type": "code", 
     "collapsed": true, 
     "input": [
      "squares", 
      "squares[0] = None  # assignment to an index", 
      "squares[1:4] = [None] * 3  # assignment to a slice", 
      "squares.append(11 * 11)", 
      "squares"
     ], 
     "language": "python", 
     "outputs": [], 
     "prompt_number": 81
    }, 
    {
     "cell_type": "markdown", 
     "source": [
      "Remove a slice"
     ]
    }, 
    {
     "cell_type": "code", 
     "collapsed": true, 
     "input": [
      "squares[:4] = [] ", 
      "squares"
     ], 
     "language": "python", 
     "outputs": [], 
     "prompt_number": 82
    }, 
    {
     "cell_type": "markdown", 
     "source": [
      "Insert at given index"
     ]
    }, 
    {
     "cell_type": "code", 
     "collapsed": true, 
     "input": [
      "squares.insert(0, 4 * 4)", 
      "squares"
     ], 
     "language": "python", 
     "outputs": [], 
     "prompt_number": 83
    }, 
    {
     "cell_type": "markdown", 
     "source": [
      "It is possible to nest lists"
     ]
    }, 
    {
     "cell_type": "code", 
     "collapsed": true, 
     "input": [
      "[[1] * 3, [2] * 3, [3] * 3]"
     ], 
     "language": "python", 
     "outputs": [], 
     "prompt_number": 84
    }, 
    {
     "cell_type": "code", 
     "collapsed": true, 
     "input": [
      "l = [0, 1, 2, 3, 4, 5]", 
      "l"
     ], 
     "language": "python", 
     "outputs": [], 
     "prompt_number": 205
    }, 
    {
     "cell_type": "markdown", 
     "source": [
      "Add item to end of list"
     ]
    }, 
    {
     "cell_type": "code", 
     "collapsed": true, 
     "input": [
      "l.append(6)", 
      "l"
     ], 
     "language": "python", 
     "outputs": [], 
     "prompt_number": 206
    }, 
    {
     "cell_type": "code", 
     "collapsed": true, 
     "input": [
      "l.extend([7, 8, 9])  # add many items to end of list", 
      "print '#3', l", 
      "", 
      "l.insert(0, -1)  # add item (-1) at index (0)", 
      "print '#4', l", 
      "", 
      "l.remove(3)  # remove 1st occurrence of item", 
      "print '#5', l", 
      "", 
      "print '#6', l.pop()  # remove last item in list *and* return it", 
      "print '#7', l", 
      "", 
      "print '#8', l.pop(0)  # remove item at index *and* return it", 
      "print '#9', l", 
      "", 
      "print '#10', l.index(4)  # return index of first occurrence of item", 
      "", 
      "print '#11', l.count(3)  # return count of item in list", 
      "", 
      "l.reverse()  # reverse a list", 
      "print '#12', l", 
      "", 
      "l.sort()  # stable in place sort, see https://wiki.python.org/moin/HowTo/Sorting", 
      "print '#13', l", 
      "", 
      "from random import shuffle", 
      "shuffle(l)  # randomly shuffle lsit", 
      "print '#14', l", 
      "", 
      "print '#15', sorted(l)  # takes iterable and returns sorted list"
     ], 
     "language": "python", 
     "outputs": [], 
     "prompt_number": 203
    }, 
    {
     "cell_type": "markdown", 
     "source": [
      "###Tuples", 
      "", 
      "Tuples are immutable but can contain mutable objects so can change their value."
     ]
    }, 
    {
     "cell_type": "code", 
     "collapsed": true, 
     "input": [
      "x, y = [1], [2]", 
      "tup = (x, y)", 
      "print tup", 
      "x.extend([3, 5])", 
      "y.extend([4, 6])", 
      "print tup"
     ], 
     "language": "python", 
     "outputs": [], 
     "prompt_number": 128
    }, 
    {
     "cell_type": "markdown", 
     "source": [
      "<a id='Control Flow'></a>", 
      "##Control Flow", 
      "", 
      "###if statements"
     ]
    }, 
    {
     "cell_type": "code", 
     "collapsed": true, 
     "input": [
      "x = 0", 
      "", 
      "if x > 0:", 
      "    print \"x is positive\"", 
      "elif x < 0:  # elif short for \"else if\"", 
      "    print \"x is negative\"", 
      "else:", 
      "    print \"x is zero\""
     ], 
     "language": "python", 
     "outputs": [], 
     "prompt_number": 85
    }, 
    {
     "cell_type": "markdown", 
     "source": [
      "###for loops", 
      "", 
      "Iterate over items in a sequence, e.g., lists or strings."
     ]
    }, 
    {
     "cell_type": "code", 
     "collapsed": true, 
     "input": [
      "for x in [1, 2, 3]:", 
      "    print x", 
      "", 
      "for x in \"hello, world!\":", 
      "    print x + \" \",  # trailing comma suppresses newline"
     ], 
     "language": "python", 
     "outputs": [], 
     "prompt_number": 86
    }, 
    {
     "cell_type": "markdown", 
     "source": [
      "Mutable sequences cannot be modified whilst being iterated over, make a copy to iterate over and then modify the original."
     ]
    }, 
    {
     "cell_type": "code", 
     "collapsed": true, 
     "input": [
      "numbers = [1, 2, 3]", 
      "for n in numbers[:]:", 
      "    numbers.append(n * 2)", 
      "numbers"
     ], 
     "language": "python", 
     "outputs": [], 
     "prompt_number": 87
    }, 
    {
     "cell_type": "markdown", 
     "source": [
      "The range function allows the generation of simple arithmetic progressions."
     ]
    }, 
    {
     "cell_type": "code", 
     "collapsed": true, 
     "input": [
      "print range(10)  # defaults to 0 start", 
      "print range(5, 9)", 
      "print range(0, 101, 10)  # optional step size", 
      "print range(100, -1, -10)  # supports negative step size"
     ], 
     "language": "python", 
     "outputs": [], 
     "prompt_number": 88
    }, 
    {
     "cell_type": "markdown", 
     "source": [
      "Use enumerate, rather than range, to iterate over sequence indices."
     ]
    }, 
    {
     "cell_type": "code", 
     "collapsed": true, 
     "input": [
      "# NO!", 
      "for i in range(len(alphabet)):", 
      "    if i % 2:", 
      "        continue", 
      "    if i > 12:", 
      "        break", 
      "    print i, alphabet[i]", 
      "    ", 
      "# YES!", 
      "for i, letter in enumerate(alphabet):", 
      "    if i % 2:", 
      "        continue", 
      "    if i > 12:", 
      "        break", 
      "    print i, letter"
     ], 
     "language": "python", 
     "outputs": [], 
     "prompt_number": 93
    }, 
    {
     "cell_type": "markdown", 
     "source": [
      "You can differentiate break points in for loops with an else"
     ]
    }, 
    {
     "cell_type": "code", 
     "collapsed": true, 
     "input": [
      "needle = 4", 
      "stack = [1, 2, 3]", 
      "", 
      "for x in stack:", 
      "    if x == needle:", 
      "        print \"found needle\"", 
      "        break", 
      "# if the break isn't hit", 
      "else:", 
      "    print \"didn't find needle\""
     ], 
     "language": "python", 
     "outputs": [], 
     "prompt_number": 97
    }, 
    {
     "cell_type": "markdown", 
     "source": [
      "Else will fire for while loops if the truth condition becomes false."
     ]
    }, 
    {
     "cell_type": "markdown", 
     "source": [
      "<a id='Functions'></a>", 
      "##Functions", 
      "", 
      "The pass statement, does nothing, it is useful for making class or function placeholders."
     ]
    }, 
    {
     "cell_type": "code", 
     "collapsed": true, 
     "input": [
      "# placeholder", 
      "def fib(n):", 
      "    pass", 
      "", 
      "# final implementation", 
      "def fib(n=100):  # 100 is a default value for n", 
      "    a, b = 1, 1", 
      "    while a < n:", 
      "        print a,", 
      "        a, b = b, a + b", 
      "", 
      "fib(20)", 
      "fib()  # call with default argument", 
      "f = fib  # make an alias", 
      "f(10)", 
      "print fib(-1)  # functions return None by default or if the return statement is empty"
     ], 
     "language": "python", 
     "outputs": [], 
     "prompt_number": 116
    }, 
    {
     "cell_type": "markdown", 
     "source": [
      "Is Python call-by-value or call-by-reference? The short answer is neither or it's complicated. Arguments are passed using call by value, where the value is always an object reference, not the value of the object, commonly referred to as call-by-object reference."
     ]
    }, 
    {
     "cell_type": "markdown", 
     "source": [
      "<a id='Unpacking lists and dictionaries with * and **'></a>", 
      "###Unpacking lists and dictionaries with * and **", 
      "", 
      "Unpacking lists"
     ]
    }, 
    {
     "cell_type": "code", 
     "collapsed": true, 
     "input": [
      "def sum3(x, y, z):", 
      "    return x + y + z", 
      "", 
      "print sum3(1, 2, 3)", 
      "print sum3(*[1, 2, 3])  # unpack list with *"
     ], 
     "language": "python", 
     "outputs": [], 
     "prompt_number": 122
    }, 
    {
     "cell_type": "markdown", 
     "source": [
      "Unpacking dictionaries"
     ]
    }, 
    {
     "cell_type": "code", 
     "collapsed": true, 
     "input": [
      "def sum3(x, y=2, z=3):  # positional arguments (x) need to be before keyword arguments (y & z))", 
      "    return x + y + z", 
      "", 
      "print sum3(1)", 
      "print sum3(1, 2, 3)", 
      "print sum3(1, **{'y': 2, 'z': 3})  # unpack dictionary with **"
     ], 
     "language": "python", 
     "outputs": [], 
     "prompt_number": 137
    }, 
    {
     "cell_type": "markdown", 
     "source": [
      "These * and ** operators work the opposite way to allow for functions to take a variable number of arguments."
     ]
    }, 
    {
     "cell_type": "code", 
     "collapsed": true, 
     "input": [
      "def f(a, *args, **keyword_args):", 
      "    print a", 
      "    print  # print a newline", 
      "    print type(args)", 
      "    for arg in args:", 
      "        print arg", 
      "    print", 
      "    print type(keyword_args)", 
      "    # the keyword_args dictionary will have an arbitary order", 
      "    for k, v in keyword_args.items():", 
      "        print k, v", 
      "", 
      "f(1, 2, 3, 4, b=5, c=6)"
     ], 
     "language": "python", 
     "outputs": [], 
     "prompt_number": 167
    }, 
    {
     "cell_type": "markdown", 
     "source": [
      "<a id='Default arguments with mutable types'></a>", 
      "###Default arguments with mutable types", 
      "", 
      "The default argument is only evaluted once, this can trip people up when they use a default parameter with a mutable type."
     ]
    }, 
    {
     "cell_type": "code", 
     "collapsed": true, 
     "input": [
      "def f(x, l=[]):", 
      "    l.append(x)", 
      "    return l", 
      "", 
      "print f(1)", 
      "print f(2)", 
      "print f(3)"
     ], 
     "language": "python", 
     "outputs": [], 
     "prompt_number": 130
    }, 
    {
     "cell_type": "markdown", 
     "source": [
      "To get the desired behaviour rewrite the function as follows"
     ]
    }, 
    {
     "cell_type": "code", 
     "collapsed": true, 
     "input": [
      "def f(x, l=None):", 
      "    if l is None:  # compare to None with 'is' *not* '=='", 
      "        l = []", 
      "    l.append(x)", 
      "    return l", 
      "", 
      "print f(1)", 
      "print f(2)", 
      "print f(3)"
     ], 
     "language": "python", 
     "outputs": [], 
     "prompt_number": 131
    }, 
    {
     "cell_type": "markdown", 
     "source": [
      "<a id='Lambda expressions'></a>", 
      "###Lambda expressions", 
      "", 
      "Small, single expression functions, that you don't have to name, i.e., they're anonymous"
     ]
    }, 
    {
     "cell_type": "code", 
     "collapsed": true, 
     "input": [
      "identity = lambda x: x  # the identity function", 
      "print map(identity, range(10))", 
      "", 
      "# you can pass lambda expressions directly", 
      "print reduce(lambda x, y: x + y, range(10))"
     ], 
     "language": "python", 
     "outputs": [], 
     "prompt_number": 174
    }, 
    {
     "cell_type": "markdown", 
     "source": [
      "###Documentation strings"
     ]
    }, 
    {
     "cell_type": "code", 
     "collapsed": true, 
     "input": [
      "def f(x):", 
      "    \"\"\"Summarise the function's purpose, start with a capital letter end in a fullstop.\"\"\"", 
      "    return x", 
      "f.__doc__  # access the docstring"
     ], 
     "language": "python", 
     "outputs": [], 
     "prompt_number": 178
    }, 
    {
     "cell_type": "markdown", 
     "source": [
      "###Global variables"
     ]
    }, 
    {
     "cell_type": "markdown", 
     "source": [
      "###Coding style", 
      "", 
      "[PEP8](http://legacy.python.org/dev/peps/pep-0008/), read it and follow it. You can probably ignore the line length limitation (E501) though.", 
      "", 
      "There are tools to help you do this, namely pep8 and autopep8.", 
      "", 
      "    # pip install pep8, autopep8", 
      "", 
      "To find PEP8 violations run:", 
      "", 
      "    # find . -name \"*py\"|xargs pep8 --ignore=E501", 
      "", 
      "To fix PEP8 violations run:", 
      "", 
      "    # autopep8 -r --in-place --ignore=E501 ."
     ]
    }, 
    {
     "cell_type": "markdown", 
     "source": [
      "<a id='Miscellany'></a>", 
      "##Miscellany", 
      "", 
      "###Multiple assignment and swapping variables"
     ]
    }, 
    {
     "cell_type": "code", 
     "collapsed": true, 
     "input": [
      "a, b = 1, 2  # 1, 2 is a tuple", 
      "print a, b", 
      "a, b = [3, 4]  # it also works with lists", 
      "print a, b"
     ], 
     "language": "python", 
     "outputs": [], 
     "prompt_number": 169
    }, 
    {
     "cell_type": "code", 
     "collapsed": true, 
     "input": [
      "a, b = b, a", 
      "a, b"
     ], 
     "language": "python", 
     "outputs": [], 
     "prompt_number": 176
    }
   ]
  }
 ]
}