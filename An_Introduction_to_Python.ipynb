{
 "metadata": {
  "name": "An_Introduction_to_Python"
 }, 
 "nbformat": 2, 
 "worksheets": [
  {
   "cells": [
    {
     "cell_type": "markdown", 
     "source": [
      "#An Introduction to Python", 
      "", 
      "[The Python Interpreter](#The Python Interpreter)", 
      "", 
      "* [Invoking the interpreter](#Invoking the interpreter)", 
      "* [Quitting the interpreter](#Quitting the interpreter)", 
      "* [Making scripts executable](#Making scripts executable)", 
      "* [Passing arguments to scripts](#Passing arguments to scripts)", 
      "* [Reading from standard input](#Reading from standard input)", 
      "* [Script encoding](#Script encoding)", 
      "* [Python as a calculator](#Python as a calculator)", 
      "", 
      "[Datatypes](#Datatypes)", 
      "", 
      "* [Strings](#Strings)", 
      "* [Lists](#Lists)", 
      "", 
      "[Control Flow](#Control Flow)", 
      "", 
      "* [if statements](#if statements)", 
      "", 
      "[Functions](#Functions)", 
      "", 
      "* [Unpacking lists and dictionaries with * and **](#Unpacking lists and dictionaries with * and **)", 
      "* [Default arguments with mutable types](#Default arguments with mutable types)", 
      "", 
      "[Miscellany](#Miscellany)"
     ]
    }, 
    {
     "cell_type": "markdown", 
     "source": [
      "<a id='The Python Interpreter'></a>", 
      "##The Python Interpreter", 
      "<a id='Invoking the interpreter'></a>", 
      "###Invoking the interpreter", 
      "", 
      "To enter a Python interpreter:"
     ]
    }, 
    {
     "cell_type": "markdown", 
     "source": [
      "    # python"
     ]
    }, 
    {
     "cell_type": "markdown", 
     "source": [
      "Run a Python script:"
     ]
    }, 
    {
     "cell_type": "markdown", 
     "source": [
      "    # python script.py"
     ]
    }, 
    {
     "cell_type": "markdown", 
     "source": [
      "Run a Python command:"
     ]
    }, 
    {
     "cell_type": "markdown", 
     "source": [
      "    # python -c command"
     ]
    }, 
    {
     "cell_type": "markdown", 
     "source": [
      "Run a Python module:"
     ]
    }, 
    {
     "cell_type": "markdown", 
     "source": [
      "    # python -m module"
     ]
    }, 
    {
     "cell_type": "markdown", 
     "source": [
      "e.g.,"
     ]
    }, 
    {
     "cell_type": "markdown", 
     "source": [
      "    # echo '{\"foo\": \"lorem\", \"bar\": \"ipsum\"}' | python -m json.tool"
     ]
    }, 
    {
     "cell_type": "markdown", 
     "source": [
      "<a id='Quitting the interpreter'></a>", 
      "###Quitting the interpreter", 
      "", 
      "To exit a Python interpreter you can call:", 
      "", 
      "    >>> quit()", 
      "", 
      "or", 
      "", 
      "    >>> exit()", 
      "", 
      "They are both instances of the same Quitter class, see http://stackoverflow.com/a/19504740/2595080."
     ]
    }, 
    {
     "cell_type": "markdown", 
     "source": [
      "    "
     ]
    }, 
    {
     "cell_type": "markdown", 
     "source": [
      "<a id='Making scripts executable'></a>", 
      "###Making scripts executable", 
      "", 
      "If you want portability add the following line to the beginning of your script:", 
      "", 
      "    #! /usr/bin/env python", 
      "", 
      "Or, if you want explicitness:", 
      "", 
      "    #! /usr/bin/python", 
      "", 
      "And make sure to flip the executable bit:", 
      "", 
      "    # chmod +x script.py"
     ]
    }, 
    {
     "cell_type": "markdown", 
     "source": [
      "<a id='Passing arguments to scripts'></a>", 
      "###Passing arguments to scripts", 
      "", 
      "To access command line arguments given when invoking a Python script:", 
      "", 
      "    import sys", 
      "    sys.argv[0]  # name of script", 
      "    sys.argv[1]  # 1st argument", 
      "    sys.argv[2]  # 2nd argument", 
      "", 
      "To do anything other than the most trivial of argument passing you'll want to use the argparse module, see [library documentation](https://docs.python.org/2.7/library/argparse.html) and [howto guide](https://docs.python.org/2.7/howto/argparse.html). Do not use optparse as it is deprecated since version 2.7.", 
      "", 
      "A non-standard library, language agnostic, alternative to argparse is [docopt](http://docopt.org/)."
     ]
    }, 
    {
     "cell_type": "markdown", 
     "source": [
      "<a id='Reading from standard input'></a>", 
      "###Reading from standard input", 
      "", 
      "There are a number of ways to read from standard input:", 
      "", 
      "[fileinput](https://docs.python.org/2/library/fileinput.html):", 
      "", 
      "    import fileinput", 
      "", 
      "    for line in fileinput.input():", 
      "        print line", 
      "", 
      "[sys.stdin](https://docs.python.org/2/library/sys.html#sys.stdin):", 
      "", 
      "    import sys", 
      "", 
      "    for line in sys.stdin:", 
      "        print line"
     ]
    }, 
    {
     "cell_type": "markdown", 
     "source": [
      "<a id='Script encoding'></a>", 
      "###Script encoding", 
      "", 
      "Declare file encoding just after \\#!, e.g.,", 
      "", 
      "    # -*- coding: latin-1 -*-", 
      "", 
      "You should probably just stick to ASCII though, unless you have a good reason not to."
     ]
    }, 
    {
     "cell_type": "markdown", 
     "source": [
      "<a id='Python as a calculator'></a>", 
      "###Python as a calculator", 
      "", 
      "Dividing an int by an int results in [floor division](https://docs.python.org/2/glossary.html#term-floor-division), whereas division involving a float results in standard division.", 
      ""
     ]
    }, 
    {
     "cell_type": "code", 
     "collapsed": false, 
     "input": [
      "10 / 3"
     ], 
     "language": "python", 
     "outputs": [], 
     "prompt_number": 49
    }, 
    {
     "cell_type": "code", 
     "collapsed": false, 
     "input": [
      "10 / 3.0"
     ], 
     "language": "python", 
     "outputs": [], 
     "prompt_number": 50
    }, 
    {
     "cell_type": "markdown", 
     "source": [
      "To perform floor division with a float use the // operator."
     ]
    }, 
    {
     "cell_type": "code", 
     "collapsed": false, 
     "input": [
      "10 // 3.0"
     ], 
     "language": "python", 
     "outputs": [], 
     "prompt_number": 51
    }, 
    {
     "cell_type": "markdown", 
     "source": [
      "Calculate powers with ** operator."
     ]
    }, 
    {
     "cell_type": "code", 
     "collapsed": false, 
     "input": [
      "2 ** 32"
     ], 
     "language": "python", 
     "outputs": [], 
     "prompt_number": 5
    }, 
    {
     "cell_type": "markdown", 
     "source": [
      "In interactive mode the last output is assigned to the variable _"
     ]
    }, 
    {
     "cell_type": "code", 
     "collapsed": false, 
     "input": [
      "1 + 2"
     ], 
     "language": "python", 
     "outputs": [], 
     "prompt_number": 47
    }, 
    {
     "cell_type": "code", 
     "collapsed": false, 
     "input": [
      "_ + 1"
     ], 
     "language": "python", 
     "outputs": [], 
     "prompt_number": 48
    }, 
    {
     "cell_type": "markdown", 
     "source": [
      "<a id='Datatypes'></a>", 
      "##Datatypes", 
      "", 
      "<a id='Strings'></a>", 
      "###Strings", 
      "", 
      "Strings can be enclosed in single ' or double quotes \""
     ]
    }, 
    {
     "cell_type": "code", 
     "collapsed": false, 
     "input": [
      "\"hello, world!\"", 
      "'hello, world!'"
     ], 
     "language": "python", 
     "outputs": [], 
     "prompt_number": 8
    }, 
    {
     "cell_type": "markdown", 
     "source": [
      "To escape quotes in strings use \\\\"
     ]
    }, 
    {
     "cell_type": "code", 
     "collapsed": false, 
     "input": [
      "print \"\\\"hello, world!\\\"\""
     ], 
     "language": "python", 
     "outputs": [], 
     "prompt_number": 9
    }, 
    {
     "cell_type": "markdown", 
     "source": [
      "Prefix the string with r for raw to stop \\ escaping"
     ]
    }, 
    {
     "cell_type": "code", 
     "collapsed": false, 
     "input": [
      "print r'\\\"hello, world!\\\"'"
     ], 
     "language": "python", 
     "outputs": [], 
     "prompt_number": 10
    }, 
    {
     "cell_type": "markdown", 
     "source": [
      "Use triple quotes for strings that span multiple lines"
     ]
    }, 
    {
     "cell_type": "code", 
     "collapsed": false, 
     "input": [
      "print \"\"\"hello, ...", 
      "", 
      "world!\"\"\""
     ], 
     "language": "python", 
     "outputs": [], 
     "prompt_number": 11
    }, 
    {
     "cell_type": "markdown", 
     "source": [
      "You can stop newlines in triple quoted strings with \\"
     ]
    }, 
    {
     "cell_type": "code", 
     "collapsed": false, 
     "input": [
      "print \"\"\"hello, ...\\", 
      "", 
      "world!\"\"\""
     ], 
     "language": "python", 
     "outputs": [], 
     "prompt_number": 12
    }, 
    {
     "cell_type": "markdown", 
     "source": [
      "Explicitly concatenate with + or implicitly by placing strings next to each other and repeat strings with *"
     ]
    }, 
    {
     "cell_type": "code", 
     "collapsed": false, 
     "input": [
      "\"hello, \" * 3 + \"world\" \"!\""
     ], 
     "language": "python", 
     "outputs": [], 
     "prompt_number": 13
    }, 
    {
     "cell_type": "markdown", 
     "source": [
      "Indexing strings"
     ]
    }, 
    {
     "cell_type": "code", 
     "collapsed": false, 
     "input": [
      "alphabet = 'abcdefghijklmnopqrstuvwxyz'", 
      "", 
      "len(alphabet)"
     ], 
     "language": "python", 
     "outputs": [], 
     "prompt_number": 14
    }, 
    {
     "cell_type": "markdown", 
     "source": [
      "Pick out the first character"
     ]
    }, 
    {
     "cell_type": "code", 
     "collapsed": false, 
     "input": [
      "alphabet[0]"
     ], 
     "language": "python", 
     "outputs": [], 
     "prompt_number": 15
    }, 
    {
     "cell_type": "markdown", 
     "source": [
      "Pick out the last character"
     ]
    }, 
    {
     "cell_type": "code", 
     "collapsed": false, 
     "input": [
      "alphabet[-1]"
     ], 
     "language": "python", 
     "outputs": [], 
     "prompt_number": 16
    }, 
    {
     "cell_type": "markdown", 
     "source": [
      "Pick out a slice from the 4th character to the 9th"
     ]
    }, 
    {
     "cell_type": "code", 
     "collapsed": false, 
     "input": [
      "alphabet[4:10]"
     ], 
     "language": "python", 
     "outputs": [], 
     "prompt_number": 17
    }, 
    {
     "cell_type": "markdown", 
     "source": [
      "The start in a slice defaults to 0, the end to -1"
     ]
    }, 
    {
     "cell_type": "code", 
     "collapsed": false, 
     "input": [
      "alphabet[13:] + alphabet[:13]"
     ], 
     "language": "python", 
     "outputs": [], 
     "prompt_number": 18
    }, 
    {
     "cell_type": "markdown", 
     "source": [
      "Pick out the last 5 characters"
     ]
    }, 
    {
     "cell_type": "code", 
     "collapsed": false, 
     "input": [
      "alphabet[-5:]"
     ], 
     "language": "python", 
     "outputs": [], 
     "prompt_number": 54
    }, 
    {
     "cell_type": "markdown", 
     "source": [
      "Python strings are immutable, i.e., you can't assign to an index or slice, so don't even try.", 
      "", 
      "Unicode strings are prefixed with a u, unicode characters with \\\\u"
     ]
    }, 
    {
     "cell_type": "code", 
     "collapsed": false, 
     "input": [
      "print 'hello, \\u4e16\\u754c!'", 
      "print u'hello, \\u4e16\\u754c!'"
     ], 
     "language": "python", 
     "outputs": [], 
     "prompt_number": 55
    }, 
    {
     "cell_type": "markdown", 
     "source": [
      "<a id='Lists'></a>", 
      "###Lists", 
      "", 
      "Lists share the same indexing, concatenation, repetition, length operations as strings."
     ]
    }, 
    {
     "cell_type": "code", 
     "collapsed": false, 
     "input": [
      "[1, 2, 3] * 3 + [4, 5, 6]"
     ], 
     "language": "python", 
     "outputs": [], 
     "prompt_number": 57
    }, 
    {
     "cell_type": "markdown", 
     "source": [
      "An additional operation is taking a shallow copy with [:]"
     ]
    }, 
    {
     "cell_type": "code", 
     "collapsed": false, 
     "input": [
      "squares = [1, 4, 9, 16, 25] + [36, 49, 64, 81, 100]", 
      "squares_copy = squares[:]", 
      "", 
      "id(squares) == id(squares_copy)"
     ], 
     "language": "python", 
     "outputs": [
      {
       "output_type": "pyout", 
       "prompt_number": 6, 
       "text": [
        "False"
       ]
      }
     ], 
     "prompt_number": 6
    }, 
    {
     "cell_type": "markdown", 
     "source": [
      "Unlike strings, lists are mutable"
     ]
    }, 
    {
     "cell_type": "code", 
     "collapsed": false, 
     "input": [
      "squares"
     ], 
     "language": "python", 
     "outputs": [
      {
       "output_type": "pyout", 
       "prompt_number": 7, 
       "text": [
        "[1, 4, 9, 16, 25, 36, 49, 64, 81, 100]"
       ]
      }
     ], 
     "prompt_number": 7
    }, 
    {
     "cell_type": "markdown", 
     "source": [
      "Assignment to an index"
     ]
    }, 
    {
     "cell_type": "code", 
     "collapsed": false, 
     "input": [
      "squares[0] = None", 
      "squares"
     ], 
     "language": "python", 
     "outputs": [
      {
       "output_type": "pyout", 
       "prompt_number": 8, 
       "text": [
        "[None, 4, 9, 16, 25, 36, 49, 64, 81, 100]"
       ]
      }
     ], 
     "prompt_number": 8
    }, 
    {
     "cell_type": "markdown", 
     "source": [
      "Assignment to a slice"
     ]
    }, 
    {
     "cell_type": "code", 
     "collapsed": false, 
     "input": [
      "squares[1:4] = [None] * 3", 
      "squares"
     ], 
     "language": "python", 
     "outputs": [
      {
       "output_type": "pyout", 
       "prompt_number": 11, 
       "text": [
        "[None, None, None, None, 25, 36, 49, 64, 81, 100]"
       ]
      }
     ], 
     "prompt_number": 11
    }, 
    {
     "cell_type": "markdown", 
     "source": [
      "Remove a slice"
     ]
    }, 
    {
     "cell_type": "code", 
     "collapsed": false, 
     "input": [
      "squares[:4] = [] ", 
      "squares"
     ], 
     "language": "python", 
     "outputs": [
      {
       "output_type": "pyout", 
       "prompt_number": 12, 
       "text": [
        "[25, 36, 49, 64, 81, 100]"
       ]
      }
     ], 
     "prompt_number": 12
    }, 
    {
     "cell_type": "markdown", 
     "source": [
      "Insert at given index"
     ]
    }, 
    {
     "cell_type": "code", 
     "collapsed": false, 
     "input": [
      "squares.insert(0, 4 * 4)", 
      "squares"
     ], 
     "language": "python", 
     "outputs": [
      {
       "output_type": "pyout", 
       "prompt_number": 13, 
       "text": [
        "[16, 25, 36, 49, 64, 81, 100]"
       ]
      }
     ], 
     "prompt_number": 13
    }, 
    {
     "cell_type": "markdown", 
     "source": [
      "Add item to end of list"
     ]
    }, 
    {
     "cell_type": "code", 
     "collapsed": false, 
     "input": [
      "l = [0, 1, 2, 3, 4, 5]", 
      "l"
     ], 
     "language": "python", 
     "outputs": [], 
     "prompt_number": 27
    }, 
    {
     "cell_type": "code", 
     "collapsed": false, 
     "input": [
      "l.append(6)", 
      "l"
     ], 
     "language": "python", 
     "outputs": [], 
     "prompt_number": 28
    }, 
    {
     "cell_type": "markdown", 
     "source": [
      "Add many items to end of list"
     ]
    }, 
    {
     "cell_type": "code", 
     "collapsed": false, 
     "input": [
      "l.extend([7, 8, 9])", 
      "l"
     ], 
     "language": "python", 
     "outputs": [], 
     "prompt_number": 29
    }, 
    {
     "cell_type": "markdown", 
     "source": [
      "At index (0) add item (-1) "
     ]
    }, 
    {
     "cell_type": "code", 
     "collapsed": true, 
     "input": [
      "l.insert(0, -1)", 
      "l"
     ], 
     "language": "python", 
     "outputs": []
    }, 
    {
     "cell_type": "markdown", 
     "source": [
      "Remove 1st occurrence of item (3)"
     ]
    }, 
    {
     "cell_type": "code", 
     "collapsed": true, 
     "input": [
      "l.remove(3)", 
      "l"
     ], 
     "language": "python", 
     "outputs": []
    }, 
    {
     "cell_type": "markdown", 
     "source": [
      "Remove last item in list *and* return it"
     ]
    }, 
    {
     "cell_type": "code", 
     "collapsed": true, 
     "input": [
      "l.pop()", 
      "l"
     ], 
     "language": "python", 
     "outputs": []
    }, 
    {
     "cell_type": "markdown", 
     "source": [
      "Remove item at index (0) *and* return it"
     ]
    }, 
    {
     "cell_type": "code", 
     "collapsed": true, 
     "input": [
      "l.pop(0)", 
      "l"
     ], 
     "language": "python", 
     "outputs": []
    }, 
    {
     "cell_type": "markdown", 
     "source": [
      "Return the index of first occurrence of item (4)"
     ]
    }, 
    {
     "cell_type": "code", 
     "collapsed": false, 
     "input": [
      "l.index(4)"
     ], 
     "language": "python", 
     "outputs": [], 
     "prompt_number": 59
    }, 
    {
     "cell_type": "markdown", 
     "source": [
      "Return count of item in list"
     ]
    }, 
    {
     "cell_type": "code", 
     "collapsed": true, 
     "input": [
      "l.count(4)"
     ], 
     "language": "python", 
     "outputs": []
    }, 
    {
     "cell_type": "markdown", 
     "source": [
      "Reverse a list"
     ]
    }, 
    {
     "cell_type": "code", 
     "collapsed": false, 
     "input": [
      "l.reverse()", 
      "l"
     ], 
     "language": "python", 
     "outputs": [], 
     "prompt_number": 67
    }, 
    {
     "cell_type": "markdown", 
     "source": [
      "Stable in place sort, see https://wiki.python.org/moin/HowTo/Sorting"
     ]
    }, 
    {
     "cell_type": "code", 
     "collapsed": true, 
     "input": [
      "l.sort()", 
      "l"
     ], 
     "language": "python", 
     "outputs": []
    }, 
    {
     "cell_type": "markdown", 
     "source": [
      "Randomly shuffle list"
     ]
    }, 
    {
     "cell_type": "code", 
     "collapsed": false, 
     "input": [
      "from random import shuffle", 
      "shuffle(l)", 
      "l"
     ], 
     "language": "python", 
     "outputs": [], 
     "prompt_number": 68
    }, 
    {
     "cell_type": "markdown", 
     "source": [
      "Takes iterable and returns sorted list"
     ]
    }, 
    {
     "cell_type": "code", 
     "collapsed": false, 
     "input": [
      "sorted(l)"
     ], 
     "language": "python", 
     "outputs": [], 
     "prompt_number": 69
    }, 
    {
     "cell_type": "markdown", 
     "source": [
      "It is possible to nest lists"
     ]
    }, 
    {
     "cell_type": "code", 
     "collapsed": false, 
     "input": [
      "[[1] * 3, [2] * 3, [3] * 3]"
     ], 
     "language": "python", 
     "outputs": [
      {
       "output_type": "pyout", 
       "prompt_number": 14, 
       "text": [
        "[[1, 1, 1], [2, 2, 2], [3, 3, 3]]"
       ]
      }
     ], 
     "prompt_number": 14
    }, 
    {
     "cell_type": "markdown", 
     "source": [
      "###Tuples", 
      "", 
      "Tuples are immutable but can contain mutable objects so can change their value."
     ]
    }, 
    {
     "cell_type": "code", 
     "collapsed": false, 
     "input": [
      "x, y = [1], [2]", 
      "tup = (x, y)", 
      "print tup", 
      "", 
      "x.extend([3, 5])", 
      "y.extend([4, 6])", 
      "print tup"
     ], 
     "language": "python", 
     "outputs": [
      {
       "output_type": "stream", 
       "stream": "stdout", 
       "text": [
        "([1], [2])", 
        "([1, 3, 5], [2, 4, 6])"
       ]
      }
     ], 
     "prompt_number": 3
    }, 
    {
     "cell_type": "markdown", 
     "source": [
      "Tuples of length one require a trailing comma"
     ]
    }, 
    {
     "cell_type": "code", 
     "collapsed": false, 
     "input": [
      "(1,)"
     ], 
     "language": "python", 
     "outputs": [
      {
       "output_type": "pyout", 
       "prompt_number": 4, 
       "text": [
        "(1,)"
       ]
      }
     ], 
     "prompt_number": 4
    }, 
    {
     "cell_type": "markdown", 
     "source": [
      "<a id='Control Flow'></a>", 
      "##Control Flow", 
      "", 
      "###if statements"
     ]
    }, 
    {
     "cell_type": "code", 
     "collapsed": false, 
     "input": [
      "x = 0", 
      "", 
      "if x > 0:", 
      "    print \"x is positive\"", 
      "elif x < 0:  # elif short for \"else if\"", 
      "    print \"x is negative\"", 
      "else:", 
      "    print \"x is zero\""
     ], 
     "language": "python", 
     "outputs": [], 
     "prompt_number": 31
    }, 
    {
     "cell_type": "markdown", 
     "source": [
      "###for loops", 
      "", 
      "Iterate over items in a sequence, e.g., lists or strings."
     ]
    }, 
    {
     "cell_type": "code", 
     "collapsed": false, 
     "input": [
      "for x in [1, 2, 3]:", 
      "    print x", 
      "", 
      "for x in \"hello, world!\":", 
      "    print x + \" \",  # trailing comma suppresses newline"
     ], 
     "language": "python", 
     "outputs": [], 
     "prompt_number": 32
    }, 
    {
     "cell_type": "markdown", 
     "source": [
      "Mutable sequences cannot be modified whilst being iterated over, make a copy to iterate over and then modify the original."
     ]
    }, 
    {
     "cell_type": "code", 
     "collapsed": false, 
     "input": [
      "numbers = [1, 2, 3]", 
      "for n in numbers[:]:", 
      "    numbers.append(n * 2)", 
      "numbers"
     ], 
     "language": "python", 
     "outputs": [], 
     "prompt_number": 33
    }, 
    {
     "cell_type": "markdown", 
     "source": [
      "The range function allows the generation of simple arithmetic progressions."
     ]
    }, 
    {
     "cell_type": "code", 
     "collapsed": false, 
     "input": [
      "print range(10)  # defaults to 0 start", 
      "print range(5, 9)", 
      "print range(0, 101, 10)  # optional step size", 
      "print range(100, -1, -10)  # supports negative step size"
     ], 
     "language": "python", 
     "outputs": [], 
     "prompt_number": 34
    }, 
    {
     "cell_type": "markdown", 
     "source": [
      "Use enumerate, rather than range, to iterate over sequence indices."
     ]
    }, 
    {
     "cell_type": "code", 
     "collapsed": false, 
     "input": [
      "# NO!", 
      "for i in range(len(alphabet)):", 
      "    if i % 2:", 
      "        continue", 
      "    if i > 12:", 
      "        break", 
      "    print i, alphabet[i]", 
      "    ", 
      "# YES!", 
      "for i, letter in enumerate(alphabet):", 
      "    if i % 2:", 
      "        continue", 
      "    if i > 12:", 
      "        break", 
      "    print i, letter"
     ], 
     "language": "python", 
     "outputs": [], 
     "prompt_number": 35
    }, 
    {
     "cell_type": "markdown", 
     "source": [
      "You can differentiate break points in for loops with an else"
     ]
    }, 
    {
     "cell_type": "code", 
     "collapsed": false, 
     "input": [
      "needle = 4", 
      "stack = [1, 2, 3]", 
      "", 
      "for x in stack:", 
      "    if x == needle:", 
      "        print \"found needle\"", 
      "        break", 
      "# if the break isn't hit", 
      "else:", 
      "    print \"didn't find needle\""
     ], 
     "language": "python", 
     "outputs": [], 
     "prompt_number": 36
    }, 
    {
     "cell_type": "markdown", 
     "source": [
      "Else will fire for while loops if the truth condition becomes false."
     ]
    }, 
    {
     "cell_type": "markdown", 
     "source": [
      "<a id='Functions'></a>", 
      "##Functions", 
      "", 
      "The pass statement, does nothing, it is useful for making class or function placeholders."
     ]
    }, 
    {
     "cell_type": "code", 
     "collapsed": false, 
     "input": [
      "# placeholder", 
      "def fib(n):", 
      "    pass", 
      "", 
      "# final implementation", 
      "def fib(n=100):  # 100 is a default value for n", 
      "    a, b = 1, 1", 
      "    while a < n:", 
      "        print a,", 
      "        a, b = b, a + b", 
      "", 
      "fib(20)", 
      "fib()  # call with default argument", 
      "f = fib  # make an alias", 
      "f(10)", 
      "print fib(-1)  # functions return None by default or if the return statement is empty"
     ], 
     "language": "python", 
     "outputs": [], 
     "prompt_number": 37
    }, 
    {
     "cell_type": "markdown", 
     "source": [
      "Is Python call-by-value or call-by-reference? The short answer is neither or it's complicated. Arguments are passed using call by value, where the value is always an object reference, not the value of the object, commonly referred to as call-by-object reference."
     ]
    }, 
    {
     "cell_type": "markdown", 
     "source": [
      "<a id='Unpacking lists and dictionaries with * and **'></a>", 
      "###Unpacking lists and dictionaries with * and **", 
      "", 
      "Unpacking lists"
     ]
    }, 
    {
     "cell_type": "code", 
     "collapsed": false, 
     "input": [
      "def sum3(x, y, z):", 
      "    return x + y + z", 
      "", 
      "print sum3(1, 2, 3)", 
      "print sum3(*[1, 2, 3])  # unpack list with *"
     ], 
     "language": "python", 
     "outputs": [], 
     "prompt_number": 38
    }, 
    {
     "cell_type": "markdown", 
     "source": [
      "Unpacking dictionaries"
     ]
    }, 
    {
     "cell_type": "code", 
     "collapsed": false, 
     "input": [
      "def sum3(x, y=2, z=3):  # positional arguments (x) need to be before keyword arguments (y & z))", 
      "    return x + y + z", 
      "", 
      "print sum3(1)", 
      "print sum3(1, 2, 3)", 
      "print sum3(1, **{'y': 2, 'z': 3})  # unpack dictionary with **"
     ], 
     "language": "python", 
     "outputs": [], 
     "prompt_number": 39
    }, 
    {
     "cell_type": "markdown", 
     "source": [
      "These * and ** operators work the opposite way to allow for functions to take a variable number of arguments."
     ]
    }, 
    {
     "cell_type": "code", 
     "collapsed": false, 
     "input": [
      "def f(a, *args, **keyword_args):", 
      "    print a", 
      "    print  # print a newline", 
      "    print type(args)", 
      "    for arg in args:", 
      "        print arg", 
      "    print", 
      "    print type(keyword_args)", 
      "    # the keyword_args dictionary will have an arbitary order", 
      "    for k, v in keyword_args.items():", 
      "        print k, v", 
      "", 
      "f(1, 2, 3, 4, b=5, c=6)"
     ], 
     "language": "python", 
     "outputs": [], 
     "prompt_number": 40
    }, 
    {
     "cell_type": "markdown", 
     "source": [
      "<a id='Default arguments with mutable types'></a>", 
      "###Default arguments with mutable types", 
      "", 
      "The default argument is only evaluted once, this can trip people up when they use a default parameter with a mutable type."
     ]
    }, 
    {
     "cell_type": "code", 
     "collapsed": false, 
     "input": [
      "def f(x, l=[]):", 
      "    l.append(x)", 
      "    return l", 
      "", 
      "print f(1)", 
      "print f(2)", 
      "print f(3)"
     ], 
     "language": "python", 
     "outputs": [], 
     "prompt_number": 41
    }, 
    {
     "cell_type": "markdown", 
     "source": [
      "To get the desired behaviour rewrite the function as follows"
     ]
    }, 
    {
     "cell_type": "code", 
     "collapsed": false, 
     "input": [
      "def f(x, l=None):", 
      "    if l is None:  # compare to None with 'is' *not* '=='", 
      "        l = []", 
      "    l.append(x)", 
      "    return l", 
      "", 
      "print f(1)", 
      "print f(2)", 
      "print f(3)"
     ], 
     "language": "python", 
     "outputs": [], 
     "prompt_number": 42
    }, 
    {
     "cell_type": "markdown", 
     "source": [
      "<a id='Lambda expressions'></a>", 
      "###Lambda expressions", 
      "", 
      "Small, single expression functions, that you don't have to name, i.e., they're anonymous"
     ]
    }, 
    {
     "cell_type": "code", 
     "collapsed": false, 
     "input": [
      "identity = lambda x: x  # the identity function", 
      "print map(identity, range(10))", 
      "", 
      "# you can pass lambda expressions directly", 
      "print reduce(lambda x, y: x + y, range(10))"
     ], 
     "language": "python", 
     "outputs": [], 
     "prompt_number": 43
    }, 
    {
     "cell_type": "markdown", 
     "source": [
      "###Documentation strings"
     ]
    }, 
    {
     "cell_type": "code", 
     "collapsed": false, 
     "input": [
      "def f(x):", 
      "    \"\"\"Summarise the function's purpose,", 
      "    start with a capital letter end in a fullstop.\"\"\"", 
      "    return x", 
      "", 
      "f.__doc__  # access the docstring"
     ], 
     "language": "python", 
     "outputs": [
      {
       "output_type": "pyout", 
       "prompt_number": 2, 
       "text": [
        "\"Summarise the function's purpose,\\n    start with a capital letter end in a fullstop.\""
       ]
      }
     ], 
     "prompt_number": 2
    }, 
    {
     "cell_type": "markdown", 
     "source": [
      "###Global variables"
     ]
    }, 
    {
     "cell_type": "markdown", 
     "source": [
      "###Coding style", 
      "", 
      "[PEP8](http://legacy.python.org/dev/peps/pep-0008/), read it and follow it. You can probably ignore the line length limitation (E501) though.", 
      "", 
      "There are tools to help you do this, namely pep8 and autopep8.", 
      "", 
      "    # pip install pep8, autopep8", 
      "", 
      "To find PEP8 violations run:", 
      "", 
      "    # find . -name \"*py\"|xargs pep8 --ignore=E501", 
      "", 
      "To fix PEP8 violations run:", 
      "", 
      "    # autopep8 -r --in-place --ignore=E501 ."
     ]
    }, 
    {
     "cell_type": "markdown", 
     "source": [
      "<a id='Miscellany'></a>", 
      "##Miscellany", 
      "", 
      "###Multiple assignment and swapping variables"
     ]
    }, 
    {
     "cell_type": "code", 
     "collapsed": false, 
     "input": [
      "a, b = 1, 2  # 1, 2 is a tuple", 
      "print a, b", 
      "", 
      "a, b = [3, 4]  # it also works with lists", 
      "print a, b"
     ], 
     "language": "python", 
     "outputs": [], 
     "prompt_number": 45
    }, 
    {
     "cell_type": "code", 
     "collapsed": false, 
     "input": [
      "a, b = b, a", 
      "a, b"
     ], 
     "language": "python", 
     "outputs": [], 
     "prompt_number": 46
    }
   ]
  }
 ]
}